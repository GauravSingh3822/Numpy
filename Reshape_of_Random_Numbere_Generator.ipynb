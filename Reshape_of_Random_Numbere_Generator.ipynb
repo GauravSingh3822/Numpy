{
  "nbformat": 4,
  "nbformat_minor": 0,
  "metadata": {
    "colab": {
      "provenance": []
    },
    "kernelspec": {
      "name": "python3",
      "display_name": "Python 3"
    },
    "language_info": {
      "name": "python"
    }
  },
  "cells": [
    {
      "cell_type": "code",
      "execution_count": 1,
      "metadata": {
        "id": "dl4ZQ4iPoMth"
      },
      "outputs": [],
      "source": [
        "import numpy as np"
      ]
    },
    {
      "cell_type": "code",
      "source": [
        "arr =np.random.random((3,4))"
      ],
      "metadata": {
        "id": "dprMf05nobaL"
      },
      "execution_count": 13,
      "outputs": []
    },
    {
      "cell_type": "code",
      "source": [
        "np.arange(1,11,3)"
      ],
      "metadata": {
        "colab": {
          "base_uri": "https://localhost:8080/"
        },
        "id": "Ay9DUShjobd9",
        "outputId": "dbfc7071-7d69-4eb3-89bf-36074f3082ab"
      },
      "execution_count": 6,
      "outputs": [
        {
          "output_type": "execute_result",
          "data": {
            "text/plain": [
              "array([ 1,  4,  7, 10])"
            ]
          },
          "metadata": {},
          "execution_count": 6
        }
      ]
    },
    {
      "cell_type": "code",
      "source": [
        "np.linspace(1,10,10)"
      ],
      "metadata": {
        "colab": {
          "base_uri": "https://localhost:8080/"
        },
        "id": "a0jZWvk4obhM",
        "outputId": "ed6c4abd-7514-47f4-80a2-3fde39853be1"
      },
      "execution_count": 8,
      "outputs": [
        {
          "output_type": "execute_result",
          "data": {
            "text/plain": [
              "array([ 1.,  2.,  3.,  4.,  5.,  6.,  7.,  8.,  9., 10.])"
            ]
          },
          "metadata": {},
          "execution_count": 8
        }
      ]
    },
    {
      "cell_type": "code",
      "source": [
        "arr"
      ],
      "metadata": {
        "colab": {
          "base_uri": "https://localhost:8080/"
        },
        "id": "pflwhW_vobje",
        "outputId": "fa45980b-db48-4645-f67a-6928e3b41d83"
      },
      "execution_count": 14,
      "outputs": [
        {
          "output_type": "execute_result",
          "data": {
            "text/plain": [
              "array([[0.38398857, 0.76765732, 0.8543376 , 0.86877689],\n",
              "       [0.12525579, 0.68613568, 0.06532077, 0.38813846],\n",
              "       [0.22276279, 0.35826881, 0.59035254, 0.44756579]])"
            ]
          },
          "metadata": {},
          "execution_count": 14
        }
      ]
    },
    {
      "cell_type": "code",
      "source": [
        "arr=np.reshape(arr,(4,3))"
      ],
      "metadata": {
        "id": "aO4-qwHeobmX"
      },
      "execution_count": 17,
      "outputs": []
    },
    {
      "cell_type": "code",
      "source": [
        "arr"
      ],
      "metadata": {
        "colab": {
          "base_uri": "https://localhost:8080/"
        },
        "id": "gijywC8RobpO",
        "outputId": "adb4ea8d-6cad-4322-a169-b4d074ce8f33"
      },
      "execution_count": 18,
      "outputs": [
        {
          "output_type": "execute_result",
          "data": {
            "text/plain": [
              "array([[0.38398857, 0.76765732, 0.8543376 ],\n",
              "       [0.86877689, 0.12525579, 0.68613568],\n",
              "       [0.06532077, 0.38813846, 0.22276279],\n",
              "       [0.35826881, 0.59035254, 0.44756579]])"
            ]
          },
          "metadata": {},
          "execution_count": 18
        }
      ]
    },
    {
      "cell_type": "code",
      "source": [
        "arr.flatten()"
      ],
      "metadata": {
        "colab": {
          "base_uri": "https://localhost:8080/"
        },
        "id": "vuspyGDIobsF",
        "outputId": "e9165634-8472-4227-81ca-08359bb38ebd"
      },
      "execution_count": 19,
      "outputs": [
        {
          "output_type": "execute_result",
          "data": {
            "text/plain": [
              "array([0.38398857, 0.76765732, 0.8543376 , 0.86877689, 0.12525579,\n",
              "       0.68613568, 0.06532077, 0.38813846, 0.22276279, 0.35826881,\n",
              "       0.59035254, 0.44756579])"
            ]
          },
          "metadata": {},
          "execution_count": 19
        }
      ]
    },
    {
      "cell_type": "code",
      "source": [],
      "metadata": {
        "id": "Y7wJqScKr6u2"
      },
      "execution_count": null,
      "outputs": []
    },
    {
      "cell_type": "code",
      "source": [],
      "metadata": {
        "id": "YXs6RrJWobul"
      },
      "execution_count": null,
      "outputs": []
    },
    {
      "cell_type": "code",
      "source": [],
      "metadata": {
        "id": "dJgP76_yob3B"
      },
      "execution_count": null,
      "outputs": []
    },
    {
      "cell_type": "code",
      "source": [],
      "metadata": {
        "id": "XE5V4ndWob6-"
      },
      "execution_count": null,
      "outputs": []
    },
    {
      "cell_type": "code",
      "source": [],
      "metadata": {
        "id": "0_saTT9kob_1"
      },
      "execution_count": null,
      "outputs": []
    }
  ]
}